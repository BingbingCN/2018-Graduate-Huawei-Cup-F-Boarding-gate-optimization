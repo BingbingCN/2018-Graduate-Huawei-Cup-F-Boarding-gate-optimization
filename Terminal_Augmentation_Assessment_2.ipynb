{
 "cells": [
  {
   "cell_type": "code",
   "execution_count": 31,
   "metadata": {
    "collapsed": true
   },
   "outputs": [
    {
     "data": {
      "text/plain": "   Unnamed: 0 飞机转场记录号      到达\\n日期  到达\\n时刻  到达\\n航班 到达类型 飞机型号      出发\\n日期  \\\n0          61   PK062  2018-01-19    -545  GN0523    D    N  2018-01-20   \n\n   出发\\n时刻  出发\\n航班 出发类型 上线\\n机场 下线\\n机场  \\\n0     980  GN0256    D    NJH    ZDV   \n\n                                              可分配登机口  time_0  \n0  [ 6  7  8  9 10 11 12 13 14 15 16 17 18 19 20 ...    1525  ",
      "text/html": "<div>\n<style scoped>\n    .dataframe tbody tr th:only-of-type {\n        vertical-align: middle;\n    }\n\n    .dataframe tbody tr th {\n        vertical-align: top;\n    }\n\n    .dataframe thead th {\n        text-align: right;\n    }\n</style>\n<table border=\"1\" class=\"dataframe\">\n  <thead>\n    <tr style=\"text-align: right;\">\n      <th></th>\n      <th>Unnamed: 0</th>\n      <th>飞机转场记录号</th>\n      <th>到达\\n日期</th>\n      <th>到达\\n时刻</th>\n      <th>到达\\n航班</th>\n      <th>到达类型</th>\n      <th>飞机型号</th>\n      <th>出发\\n日期</th>\n      <th>出发\\n时刻</th>\n      <th>出发\\n航班</th>\n      <th>出发类型</th>\n      <th>上线\\n机场</th>\n      <th>下线\\n机场</th>\n      <th>可分配登机口</th>\n      <th>time_0</th>\n    </tr>\n  </thead>\n  <tbody>\n    <tr>\n      <th>0</th>\n      <td>61</td>\n      <td>PK062</td>\n      <td>2018-01-19</td>\n      <td>-545</td>\n      <td>GN0523</td>\n      <td>D</td>\n      <td>N</td>\n      <td>2018-01-20</td>\n      <td>980</td>\n      <td>GN0256</td>\n      <td>D</td>\n      <td>NJH</td>\n      <td>ZDV</td>\n      <td>[ 6  7  8  9 10 11 12 13 14 15 16 17 18 19 20 ...</td>\n      <td>1525</td>\n    </tr>\n  </tbody>\n</table>\n</div>"
     },
     "execution_count": 31,
     "metadata": {},
     "output_type": "execute_result"
    }
   ],
   "source": [
    "import pandas as pd\n",
    "import matplotlib.pyplot as plt\n",
    "plt.rcParams['font.family'] = 'serif'\n",
    "import numpy as np\n",
    "import random\n",
    "df1=pd.read_csv('data.csv')\n",
    "df1.head(1)"
   ]
  },
  {
   "cell_type": "code",
   "execution_count": 32,
   "metadata": {
    "pycharm": {
     "name": "#%%\n"
    }
   },
   "outputs": [
    {
     "data": {
      "text/plain": "   Unnamed: 0 飞机转场记录号      到达\\n日期  到达\\n时刻  到达\\n航班 到达类型 飞机型号      出发\\n日期  \\\n0         207   PK208  2018-01-19   -1140   NV847    I    W  2018-01-20   \n1          61   PK062  2018-01-19    -545  GN0523    D    N  2018-01-20   \n2          71   PK072  2018-01-19    -505  GN0497    D    N  2018-01-20   \n3          88   PK089  2018-01-19    -450   NV663    I    W  2018-01-20   \n4          93   PK094  2018-01-19    -425   NV693    I    W  2018-01-20   \n\n   出发\\n时刻  出发\\n航班 出发类型 上线\\n机场 下线\\n机场  \\\n0     860   NV690    I    TZE    TGP   \n1     980  GN0256    D    NJH    ZDV   \n2    1025  GN0644    D    OOH    YNO   \n3     810   NV692    I    MIS    ZWS   \n4     780   NV662    I    ZWS    MIS   \n\n                                              可分配登机口  time_0  \n0  [ 1  2  3  4  5 22 23 24 25 26 27 58 59 60 61 ...    2000  \n1  [ 6  7  8  9 10 11 12 13 14 15 16 17 18 19 20 ...    1525  \n2  [ 6  7  8  9 10 11 12 13 14 15 16 17 18 19 20 ...    1530  \n3  [ 1  2  3  4  5 22 23 24 25 26 27 58 59 60 61 ...    1260  \n4  [ 1  2  3  4  5 22 23 24 25 26 27 58 59 60 61 ...    1205  ",
      "text/html": "<div>\n<style scoped>\n    .dataframe tbody tr th:only-of-type {\n        vertical-align: middle;\n    }\n\n    .dataframe tbody tr th {\n        vertical-align: top;\n    }\n\n    .dataframe thead th {\n        text-align: right;\n    }\n</style>\n<table border=\"1\" class=\"dataframe\">\n  <thead>\n    <tr style=\"text-align: right;\">\n      <th></th>\n      <th>Unnamed: 0</th>\n      <th>飞机转场记录号</th>\n      <th>到达\\n日期</th>\n      <th>到达\\n时刻</th>\n      <th>到达\\n航班</th>\n      <th>到达类型</th>\n      <th>飞机型号</th>\n      <th>出发\\n日期</th>\n      <th>出发\\n时刻</th>\n      <th>出发\\n航班</th>\n      <th>出发类型</th>\n      <th>上线\\n机场</th>\n      <th>下线\\n机场</th>\n      <th>可分配登机口</th>\n      <th>time_0</th>\n    </tr>\n  </thead>\n  <tbody>\n    <tr>\n      <th>0</th>\n      <td>207</td>\n      <td>PK208</td>\n      <td>2018-01-19</td>\n      <td>-1140</td>\n      <td>NV847</td>\n      <td>I</td>\n      <td>W</td>\n      <td>2018-01-20</td>\n      <td>860</td>\n      <td>NV690</td>\n      <td>I</td>\n      <td>TZE</td>\n      <td>TGP</td>\n      <td>[ 1  2  3  4  5 22 23 24 25 26 27 58 59 60 61 ...</td>\n      <td>2000</td>\n    </tr>\n    <tr>\n      <th>1</th>\n      <td>61</td>\n      <td>PK062</td>\n      <td>2018-01-19</td>\n      <td>-545</td>\n      <td>GN0523</td>\n      <td>D</td>\n      <td>N</td>\n      <td>2018-01-20</td>\n      <td>980</td>\n      <td>GN0256</td>\n      <td>D</td>\n      <td>NJH</td>\n      <td>ZDV</td>\n      <td>[ 6  7  8  9 10 11 12 13 14 15 16 17 18 19 20 ...</td>\n      <td>1525</td>\n    </tr>\n    <tr>\n      <th>2</th>\n      <td>71</td>\n      <td>PK072</td>\n      <td>2018-01-19</td>\n      <td>-505</td>\n      <td>GN0497</td>\n      <td>D</td>\n      <td>N</td>\n      <td>2018-01-20</td>\n      <td>1025</td>\n      <td>GN0644</td>\n      <td>D</td>\n      <td>OOH</td>\n      <td>YNO</td>\n      <td>[ 6  7  8  9 10 11 12 13 14 15 16 17 18 19 20 ...</td>\n      <td>1530</td>\n    </tr>\n    <tr>\n      <th>3</th>\n      <td>88</td>\n      <td>PK089</td>\n      <td>2018-01-19</td>\n      <td>-450</td>\n      <td>NV663</td>\n      <td>I</td>\n      <td>W</td>\n      <td>2018-01-20</td>\n      <td>810</td>\n      <td>NV692</td>\n      <td>I</td>\n      <td>MIS</td>\n      <td>ZWS</td>\n      <td>[ 1  2  3  4  5 22 23 24 25 26 27 58 59 60 61 ...</td>\n      <td>1260</td>\n    </tr>\n    <tr>\n      <th>4</th>\n      <td>93</td>\n      <td>PK094</td>\n      <td>2018-01-19</td>\n      <td>-425</td>\n      <td>NV693</td>\n      <td>I</td>\n      <td>W</td>\n      <td>2018-01-20</td>\n      <td>780</td>\n      <td>NV662</td>\n      <td>I</td>\n      <td>ZWS</td>\n      <td>MIS</td>\n      <td>[ 1  2  3  4  5 22 23 24 25 26 27 58 59 60 61 ...</td>\n      <td>1205</td>\n    </tr>\n  </tbody>\n</table>\n</div>"
     },
     "execution_count": 32,
     "metadata": {},
     "output_type": "execute_result"
    }
   ],
   "source": [
    "df1_1=df1.sort_values(by='到达\\n时刻',ascending=True)\n",
    "\n",
    "df1_1.index=range(len(df1_1))\n",
    "# print(min(df1_1['到达\\n时刻']))\n",
    "# print(max(df1_1['出发\\n时刻']))\n",
    "df1_1.head(5)"
   ]
  },
  {
   "cell_type": "code",
   "execution_count": 33,
   "metadata": {
    "pycharm": {
     "name": "#%%\n"
    }
   },
   "outputs": [],
   "source": [
    "def flag_or_not(gate_time,time_a,time_d):\n",
    "    flag=True\n",
    "    index1=(time_a-(-1140))/5\n",
    "    index2=(time_d-(-1140))/5\n",
    "\n",
    "    for i in range(int(index1),int(index2)):\n",
    "        #如果有飞机停放则是不能安排新的飞机\n",
    "        if gate_time[i]==0:\n",
    "            flag=False\n",
    "            break\n",
    "    return flag\n",
    "def update_time_plan(gate_time,time_a,time_d):\n",
    "    index1=(time_a-(-1140))/5\n",
    "    #45min 的两架飞机衔接时间\n",
    "    index2=(time_d+45-(-1140))/5\n",
    "    for i in range(int(index1),int(index2)):\n",
    "\n",
    "        gate_time[i]=0\n",
    "    return gate_time"
   ]
  },
  {
   "cell_type": "code",
   "execution_count": 43,
   "metadata": {
    "pycharm": {
     "name": "#%%\n"
    }
   },
   "outputs": [
    {
     "data": {
      "text/plain": "'[ 1  2  3  4  5 22 23 24 25 26 27 58 59 60 61 62 63 64 65 66 67 68]'"
     },
     "execution_count": 43,
     "metadata": {},
     "output_type": "execute_result"
    }
   ],
   "source": [
    "df1_1['可分配登机口'][0]"
   ]
  },
  {
   "cell_type": "code",
   "execution_count": null,
   "outputs": [],
   "source": [
    "df3=pd.read_excel('InputData.xlsx',sheet_name='Gates')\n",
    "def sort_gates(puck_gate_list,gate_list):\n",
    "    dict2={}\n",
    "    for choice in puck_gate_list:\n",
    "        print(choice)\n",
    "        dict2.update({choice:gate_list[choice]['time_plan'].count(0)/734})\n",
    "    max_gates=[i[0] for i in sorted(dict2.items(), key=lambda x: x[1],reverse=True)]\n",
    "    return max_gates\n",
    "def generation_plan(df3=df3):\n",
    "    import random\n",
    "    '''\n",
    "    获取登机口的数据\n",
    "    Data Structure：[{区域1，终端厅1，分配的航班1，可继续分配时间1}，{区域2，终端厅2，分配的航班2，可继续分配时间2}……]\n",
    "    '''\n",
    "\n",
    "    gate_list=[]\n",
    "    for i in df3.index:\n",
    "        dict={'Area':df3['区域'][i],'Zhongduanting':df3['终端厅'][i],\\\n",
    "              'pucks_list':[],'ID':df3['登机口'][i],\\\n",
    "              'time_plan':[1]*734}\n",
    "        gate_list.append(dict)\n",
    "    '''\n",
    "    获取航班的数据\n",
    "    Data Structure:[{转场记录号1，到达时刻1，出发时刻1，可分配登机口1，是否被分配登机口1，登机口1，区域1，终端厅1，到达航班1，出发航班2}]\n",
    "    '''\n",
    "    puck_list=[]\n",
    "    list1=[i for i in range(len(df1_1))]\n",
    "    random.shuffle(list1)\n",
    "    for i in list1:\n",
    "        dict={'ID':df1_1['飞机转场记录号'][i],'Time_a':df1_1['到达\\n时刻'][i],'Time_l':df1_1['出发\\n时刻'][i],\\\n",
    "              'gates_list':df1_1['可分配登机口'][i],'flag':False,'gate':None,'Area':None,'Zhongduanting':None,\\\n",
    "              'puck_a':df1_1['到达\\n航班'][i],'puck_l':df1_1['出发\\n航班'][i],'index':i}\n",
    "        puck_list.append(dict)\n",
    "    '''\n",
    "    首先是确定飞机和登机口的匹配规则（属性匹配、时间不冲突）\n",
    "    '''\n",
    "    import random\n",
    "    # def generation(n,puck_list=puck_list,gate_list=gate_list):\n",
    "    for puck in puck_list:\n",
    "\n",
    "        max_gates=sort_gates(puck['gates_list'],gate_list)\n",
    "        for choice in max_gates:\n",
    "            # print(gate_list[choice]['pucks_list'])\n",
    "\n",
    "            flag=flag_or_not(gate_list[choice]['time_plan'],puck['Time_a'],puck['Time_l'])\n",
    "            if(flag and len(gate_list[choice]['pucks_list'])>0):\n",
    "                #优先考虑现在已经利用且目前处于空闲状态的登机口--更新信息\n",
    "                gate_list[choice]['time_plan']=update_time_plan(gate_list[choice]['time_plan'],puck['Time_a'],puck['Time_l'])\n",
    "                gate_list[choice]['pucks_list'].append(puck['index'])\n",
    "                puck['flag']=True\n",
    "                puck['gate']=[choice,gate_list[choice]['ID']]\n",
    "                puck['Area']=gate_list[choice]['Area']\n",
    "                puck['Zhongduanting']=gate_list[choice]['Zhongduanting']\n",
    "                break\n",
    "            elif(flag and len(gate_list[choice]['pucks_list'])==0):\n",
    "                #考虑目前为利用且目前处于空闲状态的登机口--更新信息\n",
    "                gate_list[choice]['time_plan']=update_time_plan(gate_list[choice]['time_plan'],puck['Time_a'],puck['Time_l'])\n",
    "                gate_list[choice]['pucks_list'].append(puck['index'])\n",
    "                puck['flag']=True\n",
    "                puck['gate']=[choice,gate_list[choice]['ID']]\n",
    "                puck['Area']=gate_list[choice]['Area']\n",
    "                puck['Zhongduanting']=gate_list[choice]['Zhongduanting']\n",
    "                break\n",
    "\n",
    "    return [puck_list,gate_list]"
   ],
   "metadata": {
    "collapsed": false,
    "pycharm": {
     "name": "#%%\n"
    }
   }
  },
  {
   "cell_type": "code",
   "execution_count": 35,
   "metadata": {
    "pycharm": {
     "name": "#%%\n"
    }
   },
   "outputs": [],
   "source": [
    "#最大化分配航班 即计算flag中为True的航班数量\n",
    "def func1(pucks):\n",
    "    count=0\n",
    "    for puck in pucks:\n",
    "        if (puck['flag']==True):\n",
    "            count=count+1\n",
    "    return count\n",
    "\n",
    "#最小化使用登机口的数量 即计算目前已经使用登机口的数量\n",
    "def func2(gates):\n",
    "    count=0\n",
    "    for gate in gates:\n",
    "        if(len(gate['pucks_list'])>0):\n",
    "            count=count+1\n",
    "    return count"
   ]
  },
  {
   "cell_type": "code",
   "execution_count": 36,
   "outputs": [
    {
     "data": {
      "text/plain": "     旅客\\n记录号  乘客数  到达\\n航班     到达\\n日期 出发\\n航班     出发\\n日期\n1316   T1317    2  GN0641 2018-01-19  NV664 2018-01-20\n1355   T1356    2   NV673 2018-01-19  NV664 2018-01-20\n1356   T1357    2   NV673 2018-01-19  NV664 2018-01-20\n1357   T1358    2   NV673 2018-01-19  NV664 2018-01-20\n1358   T1359    2   NV673 2018-01-19  NV664 2018-01-20",
      "text/html": "<div>\n<style scoped>\n    .dataframe tbody tr th:only-of-type {\n        vertical-align: middle;\n    }\n\n    .dataframe tbody tr th {\n        vertical-align: top;\n    }\n\n    .dataframe thead th {\n        text-align: right;\n    }\n</style>\n<table border=\"1\" class=\"dataframe\">\n  <thead>\n    <tr style=\"text-align: right;\">\n      <th></th>\n      <th>旅客\\n记录号</th>\n      <th>乘客数</th>\n      <th>到达\\n航班</th>\n      <th>到达\\n日期</th>\n      <th>出发\\n航班</th>\n      <th>出发\\n日期</th>\n    </tr>\n  </thead>\n  <tbody>\n    <tr>\n      <th>1316</th>\n      <td>T1317</td>\n      <td>2</td>\n      <td>GN0641</td>\n      <td>2018-01-19</td>\n      <td>NV664</td>\n      <td>2018-01-20</td>\n    </tr>\n    <tr>\n      <th>1355</th>\n      <td>T1356</td>\n      <td>2</td>\n      <td>NV673</td>\n      <td>2018-01-19</td>\n      <td>NV664</td>\n      <td>2018-01-20</td>\n    </tr>\n    <tr>\n      <th>1356</th>\n      <td>T1357</td>\n      <td>2</td>\n      <td>NV673</td>\n      <td>2018-01-19</td>\n      <td>NV664</td>\n      <td>2018-01-20</td>\n    </tr>\n    <tr>\n      <th>1357</th>\n      <td>T1358</td>\n      <td>2</td>\n      <td>NV673</td>\n      <td>2018-01-19</td>\n      <td>NV664</td>\n      <td>2018-01-20</td>\n    </tr>\n    <tr>\n      <th>1358</th>\n      <td>T1359</td>\n      <td>2</td>\n      <td>NV673</td>\n      <td>2018-01-19</td>\n      <td>NV664</td>\n      <td>2018-01-20</td>\n    </tr>\n  </tbody>\n</table>\n</div>"
     },
     "execution_count": 36,
     "metadata": {},
     "output_type": "execute_result"
    }
   ],
   "source": [
    "df2=pd.read_excel('InputData.xlsx',sheet_name='Tickets')\n",
    "df2=df2[(df2['到达\\n日期']=='2018-01-20') | (df2['出发\\n日期']=='2018-01-20')]\n",
    "df2.head(5)"
   ],
   "metadata": {
    "collapsed": false,
    "pycharm": {
     "name": "#%%\n"
    }
   }
  },
  {
   "cell_type": "code",
   "execution_count": 37,
   "metadata": {
    "pycharm": {
     "name": "#%%\n"
    }
   },
   "outputs": [
    {
     "data": {
      "text/plain": "'2018-01-19'"
     },
     "execution_count": 37,
     "metadata": {},
     "output_type": "execute_result"
    }
   ],
   "source": [
    "str(df2['到达\\n日期'][1360])[:10]"
   ]
  },
  {
   "cell_type": "code",
   "execution_count": 38,
   "metadata": {
    "pycharm": {
     "name": "#%%\n"
    }
   },
   "outputs": [],
   "source": [
    "tickets=[]\n",
    "for i in df2.index:\n",
    "    #确定进场航班的index\n",
    "    df2_1=df1_1[(df1_1['到达\\n航班']==df2.loc[i]['到达\\n航班'])&(df1_1['到达\\n日期']==str(df2.loc[i]['到达\\n日期'])[:10])]\n",
    "    if len(df2_1.index)>0:\n",
    "        index1=df2_1.index[0]\n",
    "    else:\n",
    "        index1=-99\n",
    "    #确定出场航班的index\n",
    "    df2_2=df1_1[(df1_1['出发\\n航班']==df2.loc[i]['出发\\n航班'])&(df1_1['出发\\n日期']==str(df2.loc[i]['出发\\n日期'])[:10])]\n",
    "    if len(df2_2.index)>0:\n",
    "        index2=df2_2.index[0]\n",
    "    else:\n",
    "        index2=-99\n",
    "\n",
    "    dict={'ID':df2.loc[i]['旅客\\n记录号'],'count':df2.loc[i]['乘客数'],'index_a':index1,'index_l':index2,\\\n",
    "          'puck_a':df2.loc[i]['到达\\n航班'],'puck_l':df2.loc[i]['出发\\n航班'],'time_a':str(df2.loc[i]['到达\\n日期'])[:10],\\\n",
    "          'time_l':str(df2.loc[i]['出发\\n日期'])[:10]}\n",
    "    tickets.append(dict)"
   ]
  },
  {
   "cell_type": "code",
   "execution_count": 41,
   "outputs": [
    {
     "name": "stdout",
     "output_type": "stream",
     "text": [
      "[\n"
     ]
    },
    {
     "ename": "TypeError",
     "evalue": "list indices must be integers or slices, not str",
     "output_type": "error",
     "traceback": [
      "\u001B[1;31m---------------------------------------------------------------------------\u001B[0m",
      "\u001B[1;31mTypeError\u001B[0m                                 Traceback (most recent call last)",
      "\u001B[1;32m~\\AppData\\Local\\Temp/ipykernel_5468/4042977567.py\u001B[0m in \u001B[0;36m<module>\u001B[1;34m\u001B[0m\n\u001B[1;32m----> 1\u001B[1;33m \u001B[1;33m[\u001B[0m\u001B[0mpuck_list\u001B[0m\u001B[1;33m,\u001B[0m\u001B[0mgate_list\u001B[0m\u001B[1;33m]\u001B[0m\u001B[1;33m=\u001B[0m\u001B[0mgeneration_plan\u001B[0m\u001B[1;33m(\u001B[0m\u001B[1;33m)\u001B[0m\u001B[1;33m\u001B[0m\u001B[1;33m\u001B[0m\u001B[0m\n\u001B[0m",
      "\u001B[1;32m~\\AppData\\Local\\Temp/ipykernel_5468/2278484790.py\u001B[0m in \u001B[0;36mgeneration_plan\u001B[1;34m(df3)\u001B[0m\n\u001B[0;32m     39\u001B[0m     \u001B[1;32mfor\u001B[0m \u001B[0mpuck\u001B[0m \u001B[1;32min\u001B[0m \u001B[0mpuck_list\u001B[0m\u001B[1;33m:\u001B[0m\u001B[1;33m\u001B[0m\u001B[1;33m\u001B[0m\u001B[0m\n\u001B[0;32m     40\u001B[0m \u001B[1;33m\u001B[0m\u001B[0m\n\u001B[1;32m---> 41\u001B[1;33m         \u001B[0mmax_gates\u001B[0m\u001B[1;33m=\u001B[0m\u001B[0msort_gates\u001B[0m\u001B[1;33m(\u001B[0m\u001B[0mpuck\u001B[0m\u001B[1;33m[\u001B[0m\u001B[1;34m'gates_list'\u001B[0m\u001B[1;33m]\u001B[0m\u001B[1;33m,\u001B[0m\u001B[0mgate_list\u001B[0m\u001B[1;33m)\u001B[0m\u001B[1;33m\u001B[0m\u001B[1;33m\u001B[0m\u001B[0m\n\u001B[0m\u001B[0;32m     42\u001B[0m         \u001B[1;32mfor\u001B[0m \u001B[0mchoice\u001B[0m \u001B[1;32min\u001B[0m \u001B[0mmax_gates\u001B[0m\u001B[1;33m:\u001B[0m\u001B[1;33m\u001B[0m\u001B[1;33m\u001B[0m\u001B[0m\n\u001B[0;32m     43\u001B[0m             \u001B[1;31m# print(gate_list[choice]['pucks_list'])\u001B[0m\u001B[1;33m\u001B[0m\u001B[1;33m\u001B[0m\u001B[1;33m\u001B[0m\u001B[0m\n",
      "\u001B[1;32m~\\AppData\\Local\\Temp/ipykernel_5468/2278484790.py\u001B[0m in \u001B[0;36msort_gates\u001B[1;34m(puck_gate_list, gate_list)\u001B[0m\n\u001B[0;32m      4\u001B[0m     \u001B[1;32mfor\u001B[0m \u001B[0mchoice\u001B[0m \u001B[1;32min\u001B[0m \u001B[0mpuck_gate_list\u001B[0m\u001B[1;33m:\u001B[0m\u001B[1;33m\u001B[0m\u001B[1;33m\u001B[0m\u001B[0m\n\u001B[0;32m      5\u001B[0m         \u001B[0mprint\u001B[0m\u001B[1;33m(\u001B[0m\u001B[0mchoice\u001B[0m\u001B[1;33m)\u001B[0m\u001B[1;33m\u001B[0m\u001B[1;33m\u001B[0m\u001B[0m\n\u001B[1;32m----> 6\u001B[1;33m         \u001B[0mdict2\u001B[0m\u001B[1;33m.\u001B[0m\u001B[0mupdate\u001B[0m\u001B[1;33m(\u001B[0m\u001B[1;33m{\u001B[0m\u001B[0mchoice\u001B[0m\u001B[1;33m:\u001B[0m\u001B[0mgate_list\u001B[0m\u001B[1;33m[\u001B[0m\u001B[0mchoice\u001B[0m\u001B[1;33m]\u001B[0m\u001B[1;33m[\u001B[0m\u001B[1;34m'time_plan'\u001B[0m\u001B[1;33m]\u001B[0m\u001B[1;33m.\u001B[0m\u001B[0mcount\u001B[0m\u001B[1;33m(\u001B[0m\u001B[1;36m0\u001B[0m\u001B[1;33m)\u001B[0m\u001B[1;33m/\u001B[0m\u001B[1;36m734\u001B[0m\u001B[1;33m}\u001B[0m\u001B[1;33m)\u001B[0m\u001B[1;33m\u001B[0m\u001B[1;33m\u001B[0m\u001B[0m\n\u001B[0m\u001B[0;32m      7\u001B[0m     \u001B[0mmax_gates\u001B[0m\u001B[1;33m=\u001B[0m\u001B[1;33m[\u001B[0m\u001B[0mi\u001B[0m\u001B[1;33m[\u001B[0m\u001B[1;36m0\u001B[0m\u001B[1;33m]\u001B[0m \u001B[1;32mfor\u001B[0m \u001B[0mi\u001B[0m \u001B[1;32min\u001B[0m \u001B[0msorted\u001B[0m\u001B[1;33m(\u001B[0m\u001B[0mdict2\u001B[0m\u001B[1;33m.\u001B[0m\u001B[0mitems\u001B[0m\u001B[1;33m(\u001B[0m\u001B[1;33m)\u001B[0m\u001B[1;33m,\u001B[0m \u001B[0mkey\u001B[0m\u001B[1;33m=\u001B[0m\u001B[1;32mlambda\u001B[0m \u001B[0mx\u001B[0m\u001B[1;33m:\u001B[0m \u001B[0mx\u001B[0m\u001B[1;33m[\u001B[0m\u001B[1;36m1\u001B[0m\u001B[1;33m]\u001B[0m\u001B[1;33m,\u001B[0m\u001B[0mreverse\u001B[0m\u001B[1;33m=\u001B[0m\u001B[1;32mTrue\u001B[0m\u001B[1;33m)\u001B[0m\u001B[1;33m]\u001B[0m\u001B[1;33m\u001B[0m\u001B[1;33m\u001B[0m\u001B[0m\n\u001B[0;32m      8\u001B[0m     \u001B[1;32mreturn\u001B[0m \u001B[0mmax_gates\u001B[0m\u001B[1;33m\u001B[0m\u001B[1;33m\u001B[0m\u001B[0m\n",
      "\u001B[1;31mTypeError\u001B[0m: list indices must be integers or slices, not str"
     ]
    }
   ],
   "source": [
    "[puck_list,gate_list]=generation_plan()"
   ],
   "metadata": {
    "collapsed": false,
    "pycharm": {
     "name": "#%%\n"
    }
   }
  },
  {
   "cell_type": "code",
   "execution_count": null,
   "outputs": [],
   "source": [],
   "metadata": {
    "collapsed": false,
    "pycharm": {
     "name": "#%%\n"
    }
   }
  },
  {
   "cell_type": "code",
   "execution_count": null,
   "outputs": [],
   "source": [
    "'''\n",
    "函数功能：根据乘客的信息，计算中转时间（航站楼的行走时间 乘坐捷运时间）\n",
    "进而确定出适合每一架飞机起飞的登机口的序列\n",
    "'''\n",
    "puck_list[tickets[0]['index_l']][]\n",
    "\n",
    "\n",
    "\n",
    "\n",
    "\n",
    "\n",
    "\n",
    "\n",
    "\n"
   ],
   "metadata": {
    "collapsed": false,
    "pycharm": {
     "name": "#%%\n"
    }
   }
  }
 ],
 "metadata": {
  "kernelspec": {
   "display_name": "Python 3 (ipykernel)",
   "language": "python",
   "name": "python3"
  },
  "language_info": {
   "codemirror_mode": {
    "name": "ipython",
    "version": 3
   },
   "file_extension": ".py",
   "mimetype": "text/x-python",
   "name": "python",
   "nbconvert_exporter": "python",
   "pygments_lexer": "ipython3",
   "version": "3.8.12"
  }
 },
 "nbformat": 4,
 "nbformat_minor": 1
}